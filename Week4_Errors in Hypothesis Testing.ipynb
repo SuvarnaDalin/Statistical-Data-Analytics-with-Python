{
 "cells": [
  {
   "cell_type": "code",
   "execution_count": 1,
   "metadata": {},
   "outputs": [],
   "source": [
    "from scipy import stats\n",
    "import numpy as np"
   ]
  },
  {
   "cell_type": "markdown",
   "metadata": {},
   "source": [
    "## Type I Error"
   ]
  },
  {
   "cell_type": "code",
   "execution_count": 8,
   "metadata": {},
   "outputs": [],
   "source": [
    "def z_value(x, mu, SEM):\n",
    "    z = (x - mu)/SEM\n",
    "    if (z<0):\n",
    "        alfa = stats.norm.cdf(z)\n",
    "    else:\n",
    "        alfa = 1 - stats.norm.cdf(z)\n",
    "    print(alfa)"
   ]
  },
  {
   "cell_type": "markdown",
   "metadata": {},
   "source": [
    "Calculating alfa for different values of x, mu, SEM"
   ]
  },
  {
   "cell_type": "code",
   "execution_count": 13,
   "metadata": {},
   "outputs": [],
   "source": [
    "x1 = 48.5\n",
    "x2 = 51.5\n",
    "mu = 50\n",
    "SEM = 0.79"
   ]
  },
  {
   "cell_type": "code",
   "execution_count": 14,
   "metadata": {},
   "outputs": [
    {
     "name": "stdout",
     "output_type": "stream",
     "text": [
      "0.02879971774715278\n"
     ]
    }
   ],
   "source": [
    "z_value(x1, mu, SEM)"
   ]
  },
  {
   "cell_type": "code",
   "execution_count": 15,
   "metadata": {},
   "outputs": [
    {
     "name": "stdout",
     "output_type": "stream",
     "text": [
      "0.02879971774715273\n"
     ]
    }
   ],
   "source": [
    "z_value(x2, mu, SEM)"
   ]
  },
  {
   "cell_type": "code",
   "execution_count": 17,
   "metadata": {},
   "outputs": [
    {
     "data": {
      "text/plain": [
       "0.05759943549430546"
      ]
     },
     "execution_count": 17,
     "metadata": {},
     "output_type": "execute_result"
    }
   ],
   "source": [
    "0.02879971774715273 * 2 # Type I Error"
   ]
  },
  {
   "cell_type": "code",
   "execution_count": 19,
   "metadata": {},
   "outputs": [
    {
     "name": "stdout",
     "output_type": "stream",
     "text": [
      "0.005676434117424844\n"
     ]
    }
   ],
   "source": [
    "z_value(48, mu, SEM)"
   ]
  },
  {
   "cell_type": "code",
   "execution_count": 20,
   "metadata": {},
   "outputs": [
    {
     "name": "stdout",
     "output_type": "stream",
     "text": [
      "0.0056764341174248\n"
     ]
    }
   ],
   "source": [
    "z_value(52, mu, SEM)"
   ]
  },
  {
   "cell_type": "markdown",
   "metadata": {},
   "source": [
    "## Type II Error"
   ]
  },
  {
   "cell_type": "code",
   "execution_count": 24,
   "metadata": {},
   "outputs": [
    {
     "data": {
      "text/plain": [
       "0.26339575390741593"
      ]
     },
     "execution_count": 24,
     "metadata": {},
     "output_type": "execute_result"
    }
   ],
   "source": [
    "beta = stats.norm.cdf((51.5 - 52)/0.79)\n",
    "beta"
   ]
  },
  {
   "cell_type": "code",
   "execution_count": 25,
   "metadata": {},
   "outputs": [
    {
     "data": {
      "text/plain": [
       "0.8972117321157791"
      ]
     },
     "execution_count": 25,
     "metadata": {},
     "output_type": "execute_result"
    }
   ],
   "source": [
    "beta = stats.norm.cdf((51.5 - 50.5)/0.79)\n",
    "beta"
   ]
  },
  {
   "cell_type": "markdown",
   "metadata": {},
   "source": [
    "Eg 2: H0: mu = 8.3 ; H1: mu < 8.3 #mu1\n"
   ]
  },
  {
   "cell_type": "code",
   "execution_count": 39,
   "metadata": {},
   "outputs": [],
   "source": [
    "def type_2(mu1, mu2, sigma, n, alfa):\n",
    "    z = stats.norm.ppf(alfa)\n",
    "    xbar = (mu1) + (z*sigma / np.sqrt(n))\n",
    "    z2 = (xbar - mu2)/ (sigma/np.sqrt(n))\n",
    "    if(mu1 > mu2):\n",
    "        beta = 1 - stats.norm.cdf(z2)\n",
    "    else:\n",
    "        beta = stats.norm.cdf(z2)\n",
    "    print(\"beta = \", beta)\n",
    "    print(\"z = \", z)\n",
    "    print(\"z2 = \", z2)"
   ]
  },
  {
   "cell_type": "code",
   "execution_count": 40,
   "metadata": {},
   "outputs": [
    {
     "name": "stdout",
     "output_type": "stream",
     "text": [
      "beta =  0.27292999450730004\n",
      "z =  -1.6448536269514729\n",
      "z2 =  0.6039754127818677\n"
     ]
    }
   ],
   "source": [
    "type_2(8.3, 7.4, 3.1, 60, 0.05)"
   ]
  },
  {
   "cell_type": "markdown",
   "metadata": {},
   "source": [
    "Eg3.1: mu1 = 12, mu2 = 11.99"
   ]
  },
  {
   "cell_type": "code",
   "execution_count": 41,
   "metadata": {},
   "outputs": [
    {
     "name": "stdout",
     "output_type": "stream",
     "text": [
      "beta =  0.8079200023112734\n",
      "z =  -1.6448536269514729\n",
      "z2 =  -0.8702569577100673\n"
     ]
    }
   ],
   "source": [
    "type_2(12, 11.99, 0.1, 60, 0.05)"
   ]
  },
  {
   "cell_type": "markdown",
   "metadata": {},
   "source": [
    "Eg3.2: mu1 = 12, mu2 = 11.96"
   ]
  },
  {
   "cell_type": "code",
   "execution_count": 42,
   "metadata": {},
   "outputs": [
    {
     "name": "stdout",
     "output_type": "stream",
     "text": [
      "beta =  0.07303790512847008\n",
      "z =  -1.6448536269514729\n",
      "z2 =  1.4535330500143333\n"
     ]
    }
   ],
   "source": [
    "type_2(12, 11.96, 0.1, 60, 0.05)"
   ]
  },
  {
   "cell_type": "markdown",
   "metadata": {},
   "source": [
    "POWER OF A TEST\n",
    "Eg: mu2 = 12, mu1 = [14, 13.6, 11.2,......,12.0001]"
   ]
  },
  {
   "cell_type": "code",
   "execution_count": 43,
   "metadata": {},
   "outputs": [
    {
     "name": "stdout",
     "output_type": "stream",
     "text": [
      "beta =  0.010499750448532241\n",
      "z =  -1.6448536269514729\n",
      "z2 =  2.3079934482590017\n"
     ]
    }
   ],
   "source": [
    "type_2(14, 12, 3.2, 40,0.05)"
   ]
  },
  {
   "cell_type": "code",
   "execution_count": 44,
   "metadata": {},
   "outputs": [
    {
     "name": "stdout",
     "output_type": "stream",
     "text": [
      "beta =  0.06457982995225997\n",
      "z =  -1.6448536269514729\n",
      "z2 =  1.5174240332169062\n"
     ]
    }
   ],
   "source": [
    "type_2(13.6, 12, 3.2, 40,0.05)"
   ]
  },
  {
   "cell_type": "code",
   "execution_count": 45,
   "metadata": {},
   "outputs": [
    {
     "name": "stdout",
     "output_type": "stream",
     "text": [
      "beta =  0.2336575101104159\n",
      "z =  -1.6448536269514729\n",
      "z2 =  0.7268546181748106\n"
     ]
    }
   ],
   "source": [
    "type_2(13.2, 12, 3.2, 40,0.05)"
   ]
  },
  {
   "cell_type": "code",
   "execution_count": 46,
   "metadata": {},
   "outputs": [
    {
     "name": "stdout",
     "output_type": "stream",
     "text": [
      "beta =  0.49995065746353273\n",
      "z =  -1.6448536269514729\n",
      "z2 =  0.00012368339736630555\n"
     ]
    }
   ],
   "source": [
    "type_2(12.8323, 12, 3.2, 40,0.05)"
   ]
  },
  {
   "cell_type": "code",
   "execution_count": 47,
   "metadata": {},
   "outputs": [
    {
     "name": "stdout",
     "output_type": "stream",
     "text": [
      "beta =  0.5254013387545549\n",
      "z =  -1.6448536269514729\n",
      "z2 =  -0.06371479686728153\n"
     ]
    }
   ],
   "source": [
    "type_2(12.8, 12, 3.2, 40,0.05)"
   ]
  },
  {
   "cell_type": "code",
   "execution_count": 48,
   "metadata": {},
   "outputs": [
    {
     "name": "stdout",
     "output_type": "stream",
     "text": [
      "beta =  0.8035262335707292\n",
      "z =  -1.6448536269514729\n",
      "z2 =  -0.8542842119093771\n"
     ]
    }
   ],
   "source": [
    "type_2(12.4, 12, 3.2, 40,0.05)"
   ]
  },
  {
   "cell_type": "code",
   "execution_count": 49,
   "metadata": {},
   "outputs": [
    {
     "name": "stdout",
     "output_type": "stream",
     "text": [
      "beta =  0.9499796127157129\n",
      "z =  -1.6448536269514729\n",
      "z2 =  -1.6446559845977127\n"
     ]
    }
   ],
   "source": [
    "type_2(12.0001, 12, 3.2, 40,0.05)"
   ]
  },
  {
   "cell_type": "code",
   "execution_count": null,
   "metadata": {},
   "outputs": [],
   "source": []
  }
 ],
 "metadata": {
  "kernelspec": {
   "display_name": "Python 3",
   "language": "python",
   "name": "python3"
  },
  "language_info": {
   "codemirror_mode": {
    "name": "ipython",
    "version": 3
   },
   "file_extension": ".py",
   "mimetype": "text/x-python",
   "name": "python",
   "nbconvert_exporter": "python",
   "pygments_lexer": "ipython3",
   "version": "3.7.4"
  }
 },
 "nbformat": 4,
 "nbformat_minor": 2
}
